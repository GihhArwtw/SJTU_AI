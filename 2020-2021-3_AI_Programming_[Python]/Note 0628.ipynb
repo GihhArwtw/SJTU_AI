{
 "cells": [
  {
   "cell_type": "markdown",
   "metadata": {},
   "source": [
    "# 0628 Python / AI Programming Practice"
   ]
  },
  {
   "cell_type": "markdown",
   "metadata": {},
   "source": [
    "                                                                                    Tutor: Nanyang Ye\n",
    "                                                                                    Note Taker: Y. Qiu"
   ]
  },
  {
   "cell_type": "markdown",
   "metadata": {},
   "source": [
    "In [ord]\n",
    "\n",
    "In [*]:  Running!\n"
   ]
  },
  {
   "cell_type": "markdown",
   "metadata": {},
   "source": [
    "*****\n",
    "## Inputs and Outputs"
   ]
  },
  {
   "cell_type": "code",
   "execution_count": 43,
   "metadata": {},
   "outputs": [
    {
     "name": "stdout",
     "output_type": "stream",
     "text": [
      "Please input your name.qyh\n",
      "qyh\n",
      "<class 'str'>\n",
      "y\n",
      "21\n",
      "21\n"
     ]
    }
   ],
   "source": [
    "#    Example 01\n",
    "#    Input and Eval\n",
    "s = input(\"Please input your name.\")\n",
    "print(s)\n",
    "print(type(s))\n",
    "print(s[1])\n",
    "\n",
    "a = eval(' 3 * 7 ')\n",
    "print(a)\n",
    "a = eval(\" 3 * 7 \")\n",
    "print(a)"
   ]
  },
  {
   "cell_type": "markdown",
   "metadata": {},
   "source": [
    "In Python, ' and \" is equivalent."
   ]
  },
  {
   "cell_type": "code",
   "execution_count": 24,
   "metadata": {},
   "outputs": [
    {
     "name": "stdout",
     "output_type": "stream",
     "text": [
      "57\n",
      "57\n",
      "<class 'str'>\n",
      "23\n",
      "23\n",
      "<class 'int'>\n"
     ]
    }
   ],
   "source": [
    "#    Example 02 (the default property of input is string)\n",
    "a = input()\n",
    "print(a)\n",
    "print(type(a))\n",
    "\n",
    "b = int(input())\n",
    "print(b)\n",
    "print(type(b))"
   ]
  },
  {
   "cell_type": "code",
   "execution_count": 1,
   "metadata": {},
   "outputs": [
    {
     "name": "stdout",
     "output_type": "stream",
     "text": [
      "Hey there.\n",
      "You got 1078 bugs.\n",
      "\n",
      "Hey there.\n",
      "You got a lot of bugs.\n",
      "\n",
      "[END]\n",
      "ab\n"
     ]
    }
   ],
   "source": [
    "print(\"Hey there.\\nYou got 1078 bugs.\")\n",
    "\n",
    "print(\"\"\"\n",
    "Hey there.\n",
    "You got a lot of bugs.\n",
    "\"\"\")\n",
    "\n",
    "print(\"[END]\")\n",
    "\n",
    "print(\"a\",end=\"\")\n",
    "print(\"b\")"
   ]
  },
  {
   "cell_type": "markdown",
   "metadata": {},
   "source": [
    "*****\n",
    "## Assignments"
   ]
  },
  {
   "cell_type": "code",
   "execution_count": 45,
   "metadata": {
    "scrolled": true
   },
   "outputs": [
    {
     "name": "stdout",
     "output_type": "stream",
     "text": [
      "<class 'int'> <class 'float'> <class 'str'> <class 'str'>\n"
     ]
    }
   ],
   "source": [
    "a = 1\n",
    "b = 2.0\n",
    "name = \"world\"\n",
    "sent = 'world'\n",
    "\n",
    "print(type(a),type(b),type(name),type(sent))"
   ]
  },
  {
   "cell_type": "code",
   "execution_count": 46,
   "metadata": {},
   "outputs": [
    {
     "name": "stdout",
     "output_type": "stream",
     "text": [
      "1   2.0   world\n"
     ]
    }
   ],
   "source": [
    "a,b,c = 1, 2.0, \"world\"\n",
    "print(a,' ',b,' ',c)"
   ]
  },
  {
   "cell_type": "markdown",
   "metadata": {},
   "source": [
    "*****\n",
    "## Logic Expressions"
   ]
  },
  {
   "cell_type": "code",
   "execution_count": 48,
   "metadata": {
    "scrolled": true
   },
   "outputs": [
    {
     "name": "stdout",
     "output_type": "stream",
     "text": [
      "True\n",
      "False\n"
     ]
    }
   ],
   "source": [
    "print(1 != 2)\n",
    "print(1 != 1)"
   ]
  },
  {
   "cell_type": "code",
   "execution_count": 49,
   "metadata": {},
   "outputs": [
    {
     "name": "stdout",
     "output_type": "stream",
     "text": [
      "False\n"
     ]
    }
   ],
   "source": [
    "print(3>5)"
   ]
  },
  {
   "cell_type": "code",
   "execution_count": 50,
   "metadata": {
    "scrolled": true
   },
   "outputs": [
    {
     "data": {
      "text/plain": [
       "True"
      ]
     },
     "execution_count": 50,
     "metadata": {},
     "output_type": "execute_result"
    }
   ],
   "source": [
    "2 == 2"
   ]
  },
  {
   "cell_type": "code",
   "execution_count": 8,
   "metadata": {},
   "outputs": [
    {
     "data": {
      "text/plain": [
       "True"
      ]
     },
     "execution_count": 8,
     "metadata": {},
     "output_type": "execute_result"
    }
   ],
   "source": [
    "3 <= 5"
   ]
  },
  {
   "cell_type": "code",
   "execution_count": 9,
   "metadata": {},
   "outputs": [
    {
     "data": {
      "text/plain": [
       "False"
      ]
     },
     "execution_count": 9,
     "metadata": {},
     "output_type": "execute_result"
    }
   ],
   "source": [
    "3 % 2==0"
   ]
  },
  {
   "cell_type": "code",
   "execution_count": 11,
   "metadata": {},
   "outputs": [
    {
     "data": {
      "text/plain": [
       "2.2"
      ]
     },
     "execution_count": 11,
     "metadata": {},
     "output_type": "execute_result"
    }
   ],
   "source": [
    "1+ False + 1.2"
   ]
  },
  {
   "cell_type": "code",
   "execution_count": 12,
   "metadata": {},
   "outputs": [
    {
     "data": {
      "text/plain": [
       "1.8333333333333335"
      ]
     },
     "execution_count": 12,
     "metadata": {},
     "output_type": "execute_result"
    }
   ],
   "source": [
    "True / 1.2 + 1"
   ]
  },
  {
   "cell_type": "code",
   "execution_count": 13,
   "metadata": {},
   "outputs": [
    {
     "data": {
      "text/plain": [
       "1"
      ]
     },
     "execution_count": 13,
     "metadata": {},
     "output_type": "execute_result"
    }
   ],
   "source": [
    "-5 % 3"
   ]
  },
  {
   "cell_type": "code",
   "execution_count": 2,
   "metadata": {},
   "outputs": [
    {
     "data": {
      "text/plain": [
       "True"
      ]
     },
     "execution_count": 2,
     "metadata": {},
     "output_type": "execute_result"
    }
   ],
   "source": [
    "(2 > 1) and (3 != 4)"
   ]
  },
  {
   "cell_type": "code",
   "execution_count": 3,
   "metadata": {},
   "outputs": [
    {
     "data": {
      "text/plain": [
       "True"
      ]
     },
     "execution_count": 3,
     "metadata": {},
     "output_type": "execute_result"
    }
   ],
   "source": [
    "(2 > 1) or (3 != 3)"
   ]
  },
  {
   "cell_type": "code",
   "execution_count": 4,
   "metadata": {},
   "outputs": [
    {
     "data": {
      "text/plain": [
       "True"
      ]
     },
     "execution_count": 4,
     "metadata": {},
     "output_type": "execute_result"
    }
   ],
   "source": [
    "not (3 != 3)"
   ]
  },
  {
   "cell_type": "markdown",
   "metadata": {},
   "source": [
    "*****\n",
    "## Basic Computations"
   ]
  },
  {
   "cell_type": "code",
   "execution_count": 59,
   "metadata": {
    "scrolled": true
   },
   "outputs": [
    {
     "name": "stdout",
     "output_type": "stream",
     "text": [
      "* 18\n",
      "+ 20\n",
      "- 18\n",
      "/ 2.5714285714285716\n",
      "// 2\n",
      "-1\n",
      "2\n",
      "% 4\n",
      "** 64\n"
     ]
    }
   ],
   "source": [
    "a = 9\n",
    "b = 2\n",
    "a *= b\n",
    "print(\"*\",a)\n",
    "\n",
    "a += b\n",
    "print(\"+\",a)\n",
    "\n",
    "a -= b\n",
    "print(\"-\",a)\n",
    "\n",
    "print(\"/\",a/7)         # division; default: float\n",
    "print(\"//\",a//7)       # division (result as integer)\n",
    "\n",
    "print(eval('-5 // 7'))\n",
    "print(eval('-5 % 7'))\n",
    "\n",
    "a %= 7\n",
    "print(\"%\",a)\n",
    "\n",
    "a **= 3\n",
    "print(\"**\",a)          # power"
   ]
  },
  {
   "cell_type": "markdown",
   "metadata": {},
   "source": [
    "*****\n",
    "## Binary Computations"
   ]
  },
  {
   "cell_type": "code",
   "execution_count": 1,
   "metadata": {
    "scrolled": true
   },
   "outputs": [
    {
     "name": "stdout",
     "output_type": "stream",
     "text": [
      "2\n",
      "15\n",
      "-15\n",
      "13\n",
      "<< 28\n",
      ">> 7\n"
     ]
    }
   ],
   "source": [
    "a = 14      #0000 1110\n",
    "b = 3       #0000 0011\n",
    "\n",
    "print(a & b)   #0000 0010    AND\n",
    "\n",
    "print(a | b)   #0000 1111    OR\n",
    "\n",
    "print(~a)      #0001    NOT\n",
    "\n",
    "print(a ^ b)   #1101    XOR\n",
    "\n",
    "a = a << 1\n",
    "print(\"<<\",a)\n",
    "\n",
    "a = a >> 2\n",
    "print(\">>\",a)"
   ]
  },
  {
   "cell_type": "markdown",
   "metadata": {},
   "source": [
    "*****\n",
    "## Case Structure\n",
    "### if - else\n",
    "Notice that there is a \":\" after the condition expression."
   ]
  },
  {
   "cell_type": "code",
   "execution_count": 22,
   "metadata": {},
   "outputs": [
    {
     "name": "stdout",
     "output_type": "stream",
     "text": [
      "odd\n"
     ]
    }
   ],
   "source": [
    "#     if\n",
    "a = 5\n",
    "if (a % 2 == 0):\n",
    "    print(\"even\")\n",
    "else:\n",
    "    print(\"odd\")"
   ]
  },
  {
   "cell_type": "markdown",
   "metadata": {},
   "source": [
    "### if - elif - else"
   ]
  },
  {
   "cell_type": "code",
   "execution_count": 23,
   "metadata": {},
   "outputs": [
    {
     "name": "stdout",
     "output_type": "stream",
     "text": [
      "anything.\n"
     ]
    }
   ],
   "source": [
    "#     if - elif\n",
    "a = 5\n",
    "if (a % 2 ==0):\n",
    "    print(\"even\")\n",
    "elif (a % 3 ==0):\n",
    "    print(\"something.\")\n",
    "else:\n",
    "    print(\"anything.\")"
   ]
  },
  {
   "cell_type": "markdown",
   "metadata": {},
   "source": [
    "*****\n",
    "## Loop Structure\n",
    "### while ( - else ) loop"
   ]
  },
  {
   "cell_type": "markdown",
   "metadata": {},
   "source": [
    "    while (condition): #do something\n",
    "\n",
    "    while (condition):    \n",
    "        # do something\n",
    "    else:\n",
    "        # do something\n"
   ]
  },
  {
   "cell_type": "code",
   "execution_count": 5,
   "metadata": {},
   "outputs": [
    {
     "name": "stdout",
     "output_type": "stream",
     "text": [
      "20\n",
      "20\n",
      "10240000000000\n"
     ]
    }
   ],
   "source": [
    "sum = 1\n",
    "a = int(input())\n",
    "n = int(input())\n",
    "while (n > 0):\n",
    "    if (n & 1):\n",
    "        sum *= a\n",
    "    sum *= sum\n",
    "    n = n >> 1\n",
    "\n",
    "print(sum)"
   ]
  },
  {
   "cell_type": "markdown",
   "metadata": {},
   "source": [
    "### for - loop\n",
    "\n",
    "    for i in range(n):     #0..(n-1)\n",
    "        #do something\n",
    "\n",
    "    for i in ['a','b','c']:\n",
    "        #do something\n"
   ]
  },
  {
   "cell_type": "code",
   "execution_count": 30,
   "metadata": {},
   "outputs": [
    {
     "name": "stdout",
     "output_type": "stream",
     "text": [
      "5050\n"
     ]
    }
   ],
   "source": [
    "sum = 0\n",
    "for i in range(101):\n",
    "    sum += i\n",
    "print(sum)"
   ]
  },
  {
   "cell_type": "code",
   "execution_count": 37,
   "metadata": {},
   "outputs": [
    {
     "name": "stdout",
     "output_type": "stream",
     "text": [
      "2是素数\n",
      "30\n",
      "7 是素数\n",
      "11 是素数\n",
      "13 是素数\n",
      "15 是素数\n",
      "17 是素数\n",
      "19 是素数\n",
      "21 是素数\n",
      "23 是素数\n",
      "25 是素数\n",
      "27 是素数\n",
      "29 是素数\n"
     ]
    }
   ],
   "source": [
    "print(\"2是素数\")\n",
    "n = int(input())\n",
    "i = 3\n",
    "while (i<n):\n",
    "    j = 2\n",
    "    while (j<=n/i):\n",
    "        if (i%j==0): break\n",
    "        j = j+1\n",
    "    if j > n/i: print(i,\"是素数\")\n",
    "    i += 2"
   ]
  },
  {
   "cell_type": "code",
   "execution_count": null,
   "metadata": {},
   "outputs": [
    {
     "name": "stdout",
     "output_type": "stream",
     "text": [
      "请输入年份2021\n",
      "2021 不是闰年\n",
      "请输入年份2020\n",
      "2020 是闰年\n",
      "请输入年份2030\n",
      "2030 不是闰年\n",
      "请输入年份1990\n",
      "1990 不是闰年\n",
      "请输入年份1900\n",
      "1900 不是闰年\n",
      "请输入年份2048\n",
      "2048 是闰年\n"
     ]
    }
   ],
   "source": [
    "while True :\n",
    "    year = eval(input(\"请输入年份\"))\n",
    "    if ((year % 100 != 0 and year % 4 == 0) or (year % 400 == 0)):\n",
    "        print(year,\"是闰年\")\n",
    "    else:\n",
    "        print(year,\"不是闰年\")"
   ]
  },
  {
   "cell_type": "markdown",
   "metadata": {},
   "source": [
    "*****\n",
    "## Functions\n",
    "\n",
    "### Definition of Function(s)\n",
    "    def <Name>(parameters):\n",
    "    \n",
    "        #do something    \n",
    "    \n",
    "        return  # return None, can be omitted\n",
    "        # return something\n",
    "    \n",
    "No need to claim the class of parameters nor the class of the return vale"
   ]
  },
  {
   "cell_type": "code",
   "execution_count": 32,
   "metadata": {},
   "outputs": [
    {
     "name": "stdout",
     "output_type": "stream",
     "text": [
      "2\n",
      "b\n",
      "4\n",
      "97\n"
     ]
    }
   ],
   "source": [
    "def max(a,b):\n",
    "    if a>b: return a\n",
    "    else: return b\n",
    "    \n",
    "\n",
    "a = 1\n",
    "b = 2\n",
    "print(max(a,b))\n",
    "\n",
    "a = \"a\"\n",
    "b = \"b\"\n",
    "print(max(a,b))\n",
    "\n",
    "a = 3.8\n",
    "b = 4\n",
    "print(max(a,b))\n",
    "\n",
    "a = ord(\"a\")    # comparison with a = \"a\"  #(error)\n",
    "b = 4\n",
    "print(max(a,b))"
   ]
  },
  {
   "cell_type": "markdown",
   "metadata": {},
   "source": [
    "What will happen if there are multiple \"return\"s in the same function?\n",
    "\n",
    "-- Jump out at the first \"return\"."
   ]
  },
  {
   "cell_type": "code",
   "execution_count": 13,
   "metadata": {},
   "outputs": [
    {
     "name": "stdout",
     "output_type": "stream",
     "text": [
      "502\n"
     ]
    }
   ],
   "source": [
    "def Add(a,b):\n",
    "    c = a+b\n",
    "    return c\n",
    "    return a\n",
    "\n",
    "a = 2\n",
    "b = 500\n",
    "print(Add(a,b))"
   ]
  },
  {
   "cell_type": "code",
   "execution_count": 14,
   "metadata": {},
   "outputs": [
    {
     "name": "stdout",
     "output_type": "stream",
     "text": [
      "3\n",
      "None\n",
      "<class 'NoneType'>\n"
     ]
    }
   ],
   "source": [
    "def AbaAba(a,b):\n",
    "    print(a)\n",
    "    \n",
    "b = AbaAba(3,500)\n",
    "print(b)\n",
    "print(type(b))"
   ]
  },
  {
   "cell_type": "markdown",
   "metadata": {},
   "source": [
    "\"None\" is a specifically defined (object-oriented) class."
   ]
  },
  {
   "cell_type": "markdown",
   "metadata": {},
   "source": [
    "### Parameters\n",
    "position parameters\n",
    "\n",
    "keyword parameters\n",
    "\n",
    "parameters with default argument"
   ]
  },
  {
   "cell_type": "code",
   "execution_count": 19,
   "metadata": {},
   "outputs": [
    {
     "name": "stdout",
     "output_type": "stream",
     "text": [
      "a =  1\n",
      "b =  2\n",
      "a =  1\n",
      "b =  2\n",
      "a =  2\n",
      "b =  1\n"
     ]
    }
   ],
   "source": [
    "def func(a,b):\n",
    "    print(\"a = \",a)\n",
    "    print(\"b = \",b)\n",
    "    return\n",
    "    \n",
    "func(\"1\",\"2\")           # Position Parameters\n",
    "\n",
    "func(\"1\",b=\"2\")         # Keyword Parameteres (b)       # Recommended!\n",
    "func(b=\"1\",a=\"2\")       # Keyword Parameteres (a and b)"
   ]
  },
  {
   "cell_type": "code",
   "execution_count": 27,
   "metadata": {},
   "outputs": [
    {
     "name": "stdout",
     "output_type": "stream",
     "text": [
      "a =  1\n",
      "b =  3\n",
      "c =  a\n",
      "\n",
      "\n",
      "a =  1\n",
      "b =  3\n",
      "c =  5\n",
      "\n",
      "\n",
      "a =  3\n",
      "b =  1\n",
      "c =  @\n",
      "a =  3\n",
      "b =  1\n",
      "c =  5\n",
      "\n",
      "\n",
      "a =  1\n",
      "b =  #\n",
      "c =  5\n",
      "a =  1\n",
      "b =  #\n",
      "c =  *\n"
     ]
    }
   ],
   "source": [
    "def func(a,b,c=5):               # like C++, the non-default argument(s) must be leading all default argument(s)\n",
    "    print(\"a = \",a)\n",
    "    print(\"b = \",b)\n",
    "    print(\"c = \",c)\n",
    "    return\n",
    "    \n",
    "func(\"1\",3,\"a\")                  # parameters with defalut argument can be assigned a value of a totally different type\n",
    "print('\\n')\n",
    "\n",
    "func(1,\"3\")\n",
    "print('\\n')\n",
    "\n",
    "func(b=1, c=\"@\", a='3')\n",
    "func(b=1, a='3')\n",
    "print('\\n')\n",
    "\n",
    "func(1, b=\"#\")                  # Recommended Style\n",
    "func(1, b=\"#\", c=\"*\")           # Recommended Style"
   ]
  },
  {
   "cell_type": "markdown",
   "metadata": {},
   "source": [
    "### Local and Global Variables\n",
    "\n",
    "The action scope of local and global variables. (Omitted)"
   ]
  },
  {
   "cell_type": "markdown",
   "metadata": {},
   "source": [
    "### Parameters with Determined Type\n",
    "    def <func>(parameters:type_name)->type_name:"
   ]
  },
  {
   "cell_type": "code",
   "execution_count": 4,
   "metadata": {
    "scrolled": true
   },
   "outputs": [
    {
     "name": "stdout",
     "output_type": "stream",
     "text": [
      "1557\n",
      "15.257\n"
     ]
    }
   ],
   "source": [
    "def max(a:int, b:int, c:int)->str:\n",
    "    a = a+b+c\n",
    "    return (str(a)+str(b)+str(c))\n",
    "\n",
    "print(max(3,5,7))\n",
    "print(max(3.2,5,7))"
   ]
  },
  {
   "cell_type": "markdown",
   "metadata": {},
   "source": [
    "### Non-determined Parameters（不定长参数）\n",
    "\n",
    "    def <func>(parameters, *val):\n",
    "    \n",
    "        #do something\n",
    "    \n",
    "\"*val\" is a tuple containing all non-determined parameters.\n",
    "\n",
    "Another way of implementing non-determined parameters is to use \"**\", i.e.\n",
    "    \n",
    "=================================\n",
    "    \n",
    "    def <func>(parameteres, **val):\n",
    "    \n",
    "        # do something\n",
    "    \n",
    "where val is a dictionary containing all non-determined parameters."
   ]
  },
  {
   "cell_type": "code",
   "execution_count": 34,
   "metadata": {},
   "outputs": [
    {
     "name": "stdout",
     "output_type": "stream",
     "text": [
      "a =  @\n",
      "1\n",
      "a\n",
      "steste\n",
      "7.08213423\n",
      "['a', 1, 3.0]\n"
     ]
    }
   ],
   "source": [
    "def Func(a,*val):\n",
    "    print(\"a = \",a)\n",
    "    for var in val:\n",
    "        print(var)\n",
    "    return\n",
    "\n",
    "Func(\"@\",1,\"a\",'steste',7.08213423,['a',1,3.0])"
   ]
  },
  {
   "cell_type": "markdown",
   "metadata": {},
   "source": [
    "The running time of transferring different type into functions."
   ]
  },
  {
   "cell_type": "code",
   "execution_count": 37,
   "metadata": {},
   "outputs": [
    {
     "name": "stdout",
     "output_type": "stream",
     "text": [
      "a =  5\n",
      "0.0\n",
      "a =  [5, 6, 7]\n",
      "0.0\n"
     ]
    }
   ],
   "source": [
    "def Func(a,*val):\n",
    "    print(\"a = \",a)\n",
    "    return\n",
    "\n",
    "import time\n",
    "\n",
    "start_t = time.time()\n",
    "Func(5,6,7)\n",
    "end_t = time.time()\n",
    "print (end_t-start_t)\n",
    "\n",
    "start_t = time.time()\n",
    "Func([5,6,7])\n",
    "end_t = time.time()\n",
    "print (end_t-start_t)"
   ]
  },
  {
   "cell_type": "markdown",
   "metadata": {},
   "source": [
    "### Return Multiple Values\n",
    "\n",
    "Return as a tuple.\n",
    "\n",
    "A tuple : (value, value, value, value)\n",
    "\n",
    "The values in a tuple can be of the same class."
   ]
  },
  {
   "cell_type": "code",
   "execution_count": 40,
   "metadata": {},
   "outputs": [
    {
     "name": "stdout",
     "output_type": "stream",
     "text": [
      "(8, 2, 15, 1.6666666666666667, '@')\n"
     ]
    }
   ],
   "source": [
    "def Add(a,b):\n",
    "    return a+b, a-b, a*b, a/b, \"@\"\n",
    "\n",
    "a = 5\n",
    "b = 3\n",
    "print(Add(a,b))"
   ]
  },
  {
   "cell_type": "markdown",
   "metadata": {},
   "source": [
    "### Anonymous Functions (Lambda Function)"
   ]
  },
  {
   "cell_type": "markdown",
   "metadata": {},
   "source": [
    "    lambda <parameters>:<expression>"
   ]
  },
  {
   "cell_type": "code",
   "execution_count": 109,
   "metadata": {},
   "outputs": [
    {
     "name": "stdout",
     "output_type": "stream",
     "text": [
      "8\n",
      "11\n",
      "6\n"
     ]
    }
   ],
   "source": [
    "c = lambda a,b,c=5 : a+b+c\n",
    "print(c(1,2))\n",
    "print(c(1,2,8))\n",
    "\n",
    "print((lambda a,b,c=1 : a*b*c )(1,2,3))"
   ]
  },
  {
   "cell_type": "markdown",
   "metadata": {},
   "source": [
    "### Module"
   ]
  },
  {
   "cell_type": "markdown",
   "metadata": {},
   "source": [
    "    import [something]\n",
    "    import [something] as sth\n",
    "\n",
    "    from [Something] import [something in Something]\n",
    "    from [Something] import [something in Something] as Sth"
   ]
  },
  {
   "cell_type": "markdown",
   "metadata": {},
   "source": [
    "-- -- -- --\n",
    "\n",
    "We can import modules from the other file under the same folder.\n",
    "\n",
    "    e.g.\n",
    "\n",
    "    -- demo\n",
    "        |-- alpha.py\n",
    "        |__ beta.py\n",
    "\n",
    "[ IN ALPHA.PY ]\n",
    "\n",
    "    import beta\n",
    "    from beta import afunctioninbeta as func"
   ]
  },
  {
   "cell_type": "markdown",
   "metadata": {},
   "source": [
    "*****\n",
    "## List"
   ]
  },
  {
   "cell_type": "markdown",
   "metadata": {},
   "source": [
    "A list of different types of data.\n",
    "\n",
    "String(\"str\") is a special kind of list."
   ]
  },
  {
   "cell_type": "markdown",
   "metadata": {},
   "source": [
    "### Initialization\n",
    "\n",
    "    a = list()        # an empty list\n",
    "    b = list([2,3,4])   # a list of [2,3,4]\n",
    "\n",
    "    c = [2,3,4]       # In fact, create an anonymous list \"[2,3,4]\" and assign it to \"c\".   # Low Efficiency"
   ]
  },
  {
   "cell_type": "markdown",
   "metadata": {},
   "source": [
    "【index: 0..n-1】"
   ]
  },
  {
   "cell_type": "code",
   "execution_count": 47,
   "metadata": {},
   "outputs": [
    {
     "name": "stdout",
     "output_type": "stream",
     "text": [
      "4\n",
      "[2, 3.4, '@', 'strstr']\n",
      "2   3.4   @   strstr\n",
      "strstr\n"
     ]
    }
   ],
   "source": [
    "lis = [2,3.4,\"@\",\"strstr\"]\n",
    "\n",
    "print(len(lis))\n",
    "print(lis)\n",
    "print(lis[0],' ',lis[1],' ',lis[2],' ',lis[3])\n",
    "print(lis[-1])                                    # The last element in the list.\n",
    "#print(lis[-10])          # Error: Index out of range\n",
    "                          # ↑ Infiltration Test.   e.g. Password"
   ]
  },
  {
   "cell_type": "markdown",
   "metadata": {},
   "source": [
    "### Selection of Elements in a List\n",
    "\n",
    "    [a:b] select all elements from listname[a] to listname[b]\n",
    "        \n",
    "        Comprehension: (a elements) [:<the elements we want>] (the (b+1)-st element)\n",
    "        n fact: listname[a] ~ listname[b]    ** Notice that index:[0..len-1]\n",
    "\n",
    "    [:b] the first b elements\n",
    "    [a:] the last (len-a) elements"
   ]
  },
  {
   "cell_type": "code",
   "execution_count": 50,
   "metadata": {},
   "outputs": [
    {
     "name": "stdout",
     "output_type": "stream",
     "text": [
      "[2, 3]\n",
      "[1, 2]\n",
      "[3, 4, 5, 6, 7]\n"
     ]
    }
   ],
   "source": [
    "lis = [1,2,3,4,5,6,7]\n",
    "\n",
    "print(lis[1:3])\n",
    "print(lis[:2])\n",
    "print(lis[2:])"
   ]
  },
  {
   "cell_type": "code",
   "execution_count": 51,
   "metadata": {},
   "outputs": [
    {
     "name": "stdout",
     "output_type": "stream",
     "text": [
      "[1, 2, 3, 4]\n"
     ]
    }
   ],
   "source": [
    "list1 = [1,2]\n",
    "list2 = [3,4]\n",
    "\n",
    "list3 = list1+list2\n",
    "\n",
    "print(list3)"
   ]
  },
  {
   "cell_type": "code",
   "execution_count": 112,
   "metadata": {},
   "outputs": [
    {
     "name": "stdout",
     "output_type": "stream",
     "text": [
      "[1, 2, 3, 4, 5, 6, 7, 8, 9, 10, 11, 12, 13, 14, 15, 16, 17, 18, 19, 20]\n",
      "[0, 1, 2, 3, 4, 5, 6, 7, 8, 9, 10, 11, 12, 13, 14, 15, 16, 17, 18, 19]\n",
      "[0, 1, 2, 3, 4, 5, 6, 7, 8, 9, 10, 11, 12, 13, 14, 15, 16, 17, 18, 19]\n"
     ]
    }
   ],
   "source": [
    "list1 = [x for x in range(1,21)]\n",
    "print(list1)\n",
    "\n",
    "list1 = [x for x in range(20)]\n",
    "list2 = list(range(0,20))\n",
    "\n",
    "print(list1)\n",
    "print(list2)"
   ]
  },
  {
   "cell_type": "markdown",
   "metadata": {},
   "source": [
    "### Multi-Dimension List"
   ]
  },
  {
   "cell_type": "code",
   "execution_count": 103,
   "metadata": {},
   "outputs": [
    {
     "name": "stdout",
     "output_type": "stream",
     "text": [
      "[[1, 2], [3, 4]]\n"
     ]
    }
   ],
   "source": [
    "list1 = [[1,2],[3,4]]\n",
    "print(list1)"
   ]
  },
  {
   "cell_type": "markdown",
   "metadata": {},
   "source": [
    "****\n",
    "\n",
    "## Tuples, Sets and Dictionaries\n",
    "\n",
    "### Tuples\n",
    "\n",
    "\"Constants\". Fixed elements. (element1, element2, element3)\n",
    "\n",
    "More efficient than List."
   ]
  },
  {
   "cell_type": "code",
   "execution_count": 95,
   "metadata": {},
   "outputs": [
    {
     "name": "stdout",
     "output_type": "stream",
     "text": [
      "()\n",
      "()\n",
      "(1, 2, 3)\n",
      "(1, 2, 3, 4, 5, 6, 7, 8, 9, 10, 11, 12, 13, 14, 15, 16, 17, 18, 19, 20)\n",
      "(1, 2, 3, 4, 5, 6, 7, 8, 9, 10, 11, 12, 13, 14, 15, 16, 17, 18, 19, 20)\n"
     ]
    }
   ],
   "source": [
    "tuple1 = ()   #empty tuple\n",
    "tuple0 = tuple()\n",
    "tuple2 = (1,2,3)\n",
    "tuple3 = tuple([x for x in range(1,21)])     # turning a list into tuple\n",
    "tuple4 = tuple(range(1,21))\n",
    "\n",
    "print(tuple1)\n",
    "print(tuple0)\n",
    "print(tuple2)\n",
    "print(tuple3)\n",
    "print(tuple4)"
   ]
  },
  {
   "cell_type": "markdown",
   "metadata": {},
   "source": [
    "### Sets\n",
    "\n",
    "Sets. Non-redundant (no repeating elements) and non-ordered. {element1, element2, element3}"
   ]
  },
  {
   "cell_type": "code",
   "execution_count": 77,
   "metadata": {},
   "outputs": [
    {
     "name": "stdout",
     "output_type": "stream",
     "text": [
      "set()\n",
      "{}\n",
      "{(1, 2, 3)}\n",
      "{1, 2, 3}\n",
      "1\n",
      "2\n",
      "3\n"
     ]
    }
   ],
   "source": [
    "set1 = set()\n",
    "set2 = {}\n",
    "set3 = {(1,2,3)}\n",
    "set4 = set([1,2,3])       # Turning a list into a set.\n",
    "                          # Cannot use {[1,2,3]} to turn a list into a set, 'cause the order information is lost.\n",
    "\n",
    "print(set1)\n",
    "print(set2)\n",
    "print(set3)\n",
    "print(set4)\n",
    "\n",
    "# print(set4[2])        #ERROR\n",
    "\n",
    "for i in set4:\n",
    "    print(i)"
   ]
  },
  {
   "cell_type": "code",
   "execution_count": 82,
   "metadata": {},
   "outputs": [
    {
     "name": "stdout",
     "output_type": "stream",
     "text": [
      "{1, 2, 3}\n",
      "{1, 2, 3, 4, 6}\n",
      "{2, 3, 4, 6}\n",
      "{2, 4, 6}\n",
      "{2, 6}\n"
     ]
    }
   ],
   "source": [
    "set1 = {1,2,3}\n",
    "\n",
    "set1.add(3)\n",
    "print(set1)\n",
    "\n",
    "set1.update({4,6})\n",
    "print(set1)\n",
    "\n",
    "set1.pop()          # randomly pick an element in the set and remove it\n",
    "print(set1)\n",
    "set1.discard(3)     # faster\n",
    "print(set1)\n",
    "set1.remove(4)\n",
    "print(set1)"
   ]
  },
  {
   "cell_type": "code",
   "execution_count": 89,
   "metadata": {},
   "outputs": [
    {
     "name": "stdout",
     "output_type": "stream",
     "text": [
      "False\n",
      "False\n",
      "True\n",
      "False\n",
      "False\n",
      "{1, 2, 3, 4, 5}\n",
      "{3}\n",
      "{1, 2}\n",
      "{1, 2}\n"
     ]
    }
   ],
   "source": [
    "set1 = {1,2,3}\n",
    "set2 = {3,4,5}\n",
    "\n",
    "print(set1.issubset(set2))\n",
    "print(set1.issuperset(set2))\n",
    "print(set1 == set1)\n",
    "print(set1 == set2)\n",
    "print(set1 != set1)\n",
    "\n",
    "print(set1.union(set2))               # Union\n",
    "print(set1.intersection(set2))        # Intersection\n",
    "print(set1.difference(set2))          # Difference\n",
    "print(set1-set2)                      # Difference"
   ]
  },
  {
   "cell_type": "markdown",
   "metadata": {},
   "source": [
    "### Dictionaries\n",
    "\n",
    "Key ---- Data.\n",
    "\n",
    "{\"key1\":\"element1\",\"key\":\"element2\"}"
   ]
  },
  {
   "cell_type": "code",
   "execution_count": 94,
   "metadata": {},
   "outputs": [
    {
     "name": "stdout",
     "output_type": "stream",
     "text": [
      "John\n"
     ]
    }
   ],
   "source": [
    "students = {\"001\":\"John\",\"002\":\"Hash\",\"003\":\"S**t\"}\n",
    "EmptyDic = {}\n",
    "# Dictionaries are created on the basis of set\n",
    "\n",
    "print(students[\"001\"])\n",
    "del students[\"003\"]        # remove a specific element"
   ]
  },
  {
   "cell_type": "code",
   "execution_count": null,
   "metadata": {},
   "outputs": [],
   "source": []
  }
 ],
 "metadata": {
  "kernelspec": {
   "display_name": "Python 3",
   "language": "python",
   "name": "python3"
  },
  "language_info": {
   "codemirror_mode": {
    "name": "ipython",
    "version": 3
   },
   "file_extension": ".py",
   "mimetype": "text/x-python",
   "name": "python",
   "nbconvert_exporter": "python",
   "pygments_lexer": "ipython3",
   "version": "3.8.5"
  }
 },
 "nbformat": 4,
 "nbformat_minor": 4
}
