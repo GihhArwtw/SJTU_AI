{
 "cells": [
  {
   "cell_type": "markdown",
   "metadata": {},
   "source": [
    "# 0701 Python / AI Programming Practice"
   ]
  },
  {
   "cell_type": "markdown",
   "metadata": {},
   "source": [
    "                                                                                    Tutor: Nanyang Ye\n",
    "                                                                                    Note Taker: Y. Qiu"
   ]
  },
  {
   "cell_type": "markdown",
   "metadata": {},
   "source": [
    "## Fuction Programming"
   ]
  },
  {
   "cell_type": "markdown",
   "metadata": {},
   "source": [
    "### map(function, iterable, ...)\n",
    "    \n",
    "    底层实现：for → require iterable data structure (e.g. list)"
   ]
  },
  {
   "cell_type": "code",
   "execution_count": 4,
   "metadata": {},
   "outputs": [
    {
     "name": "stdout",
     "output_type": "stream",
     "text": [
      "10 20 30\n",
      "[10, 20, 30]\n",
      "zhao qian sun li\n"
     ]
    },
    {
     "data": {
      "text/plain": [
       "['zhao', 'qian', 'sun', 'li']"
      ]
     },
     "execution_count": 4,
     "metadata": {},
     "output_type": "execute_result"
    }
   ],
   "source": [
    "num = list(map(int,input().split()))\n",
    "print(num)\n",
    "\n",
    "string = list(map(str,input().split()))\n",
    "string"
   ]
  },
  {
   "cell_type": "markdown",
   "metadata": {},
   "source": [
    "Notice:\n",
    "\n",
    "    \"map\" and \"input\" sometimes may conflict with each other.\n",
    "    A better example is as follows."
   ]
  },
  {
   "cell_type": "code",
   "execution_count": 18,
   "metadata": {},
   "outputs": [
    {
     "data": {
      "text/plain": [
       "[1, 2, 3]"
      ]
     },
     "execution_count": 18,
     "metadata": {},
     "output_type": "execute_result"
    }
   ],
   "source": [
    "num = list(map(int, [1,2,3.1]))\n",
    "num"
   ]
  },
  {
   "cell_type": "markdown",
   "metadata": {},
   "source": [
    "### reduce(function, iterable)\n",
    "\n",
    "    apply function to all elements in iterable data structure"
   ]
  },
  {
   "cell_type": "code",
   "execution_count": 1,
   "metadata": {
    "scrolled": true
   },
   "outputs": [
    {
     "name": "stdout",
     "output_type": "stream",
     "text": [
      "10 20 30\n"
     ]
    },
    {
     "data": {
      "text/plain": [
       "6000"
      ]
     },
     "execution_count": 1,
     "metadata": {},
     "output_type": "execute_result"
    }
   ],
   "source": [
    "num = list(map(int,input().split()))\n",
    "\n",
    "def mul(a,b):\n",
    "    return a*b\n",
    "# end mul\n",
    "\n",
    "from functools import reduce\n",
    "result = reduce(mul,num)\n",
    "result"
   ]
  },
  {
   "cell_type": "markdown",
   "metadata": {},
   "source": [
    "### filter(function, iterable)\n",
    "\n",
    "    e.g. Filter out all NaN (Not a Number) or INF (infinite numbers)"
   ]
  },
  {
   "cell_type": "code",
   "execution_count": 23,
   "metadata": {},
   "outputs": [
    {
     "name": "stdout",
     "output_type": "stream",
     "text": [
      "1 2 34 66 7 18\n",
      "[1, 2, 34, 7, 18]\n",
      "[1, 2, 34, 7, 18]\n"
     ]
    }
   ],
   "source": [
    "numlist = list(map(int,input().split()))\n",
    "    \n",
    "def less(x):\n",
    "    return (x<=65)\n",
    "# end less\n",
    "\n",
    "num = list(filter(less, numlist))\n",
    "print(num)\n",
    "\n",
    "num1 = list(filter(lambda x: x<=65, numlist))\n",
    "print(num1)"
   ]
  },
  {
   "cell_type": "markdown",
   "metadata": {},
   "source": [
    "### sorted()\n",
    "\n",
    "    usable parameters: key, reverse"
   ]
  },
  {
   "cell_type": "code",
   "execution_count": 16,
   "metadata": {},
   "outputs": [
    {
     "name": "stdout",
     "output_type": "stream",
     "text": [
      "[-5, 1, 3, 4, 5, 7, 8989]\n",
      "[8989, 7, 5, -5, 4, 3, 1]\n"
     ]
    }
   ],
   "source": [
    "a = [1,4,3,7,5,8989,-5]\n",
    "print(sorted(a))\n",
    "\n",
    "from functools import cmp_to_key\n",
    "\n",
    "def cmp(x,y):\n",
    "    if x*x<y*y:      return -1\n",
    "    elif x*x == y*y: return 0\n",
    "    else:            return 1\n",
    "# end cmp\n",
    "\n",
    "print(sorted(a,key = cmp_to_key(cmp), reverse=True))   # reverse = True:↓"
   ]
  },
  {
   "cell_type": "markdown",
   "metadata": {},
   "source": [
    "### Nested Functions (Utilizing Annonymous Functions)"
   ]
  },
  {
   "cell_type": "code",
   "execution_count": 40,
   "metadata": {},
   "outputs": [
    {
     "name": "stdout",
     "output_type": "stream",
     "text": [
      "0x6242f\n",
      "402479\n"
     ]
    }
   ],
   "source": [
    "def convert(num):\n",
    "    def value(bit):\n",
    "        if bit>='0' and bit<='9' : return eval(bit)\n",
    "        else:                      return ord(bit)-87\n",
    "    # end value\n",
    "        \n",
    "    def convert(num, base):\n",
    "        sum = value(num[0])\n",
    "        for i in range(1,len(num)):\n",
    "            sum = sum*base + value(num[i])\n",
    "        return sum\n",
    "    # end convert\n",
    "        \n",
    "    if (num[1] == 'b'):    return convert(num[2:],2)         # binary\n",
    "    elif (num[1] == 'x'):  return convert(num[2:],16)        # hexadecimal\n",
    "    elif (num[1] == 'o'):  return convert(num[2:],8)         # octal\n",
    "    else:                  return num                        # decimal\n",
    "        \n",
    "    return result\n",
    "# end convert\n",
    "\n",
    "print(convert(input()))"
   ]
  },
  {
   "cell_type": "code",
   "execution_count": 25,
   "metadata": {
    "scrolled": true
   },
   "outputs": [
    {
     "name": "stdout",
     "output_type": "stream",
     "text": [
      "27\n"
     ]
    }
   ],
   "source": [
    "add = lambda x: x+1\n",
    "do_it_three_times = lambda f: lambda x: f(f(f(x)))    # lambda f is a function whose only parameter is a function (lambda x)\n",
    "print(do_it_three_times(do_it_three_times)(add)(0))\n",
    "\n",
    "# do_it_three_times(add)(x):  add(add(add(x))), i.e. x+3\n",
    "# do_it_three_times(do_it_three_times)(add)(x), i.e. do_it_three_times(add)(0) → 3,\n",
    "#                                                    do_it_three_times(add)(3) → 9， do_it_three_times(add)(9)→ 27\n"
   ]
  },
  {
   "cell_type": "markdown",
   "metadata": {},
   "source": [
    "### Function as Return Value"
   ]
  },
  {
   "cell_type": "markdown",
   "metadata": {},
   "source": [
    "### Decorators"
   ]
  },
  {
   "cell_type": "code",
   "execution_count": 22,
   "metadata": {},
   "outputs": [
    {
     "name": "stdout",
     "output_type": "stream",
     "text": [
      "call test{}\n",
      "1\n"
     ]
    }
   ],
   "source": [
    "import functools\n",
    "def log(func):              # the input is a function!\n",
    "    @functools.wraps(func)\n",
    "    def wrapper(*val, **kwargs):\n",
    "        print('call %s{}' % func.__name__)       #.__name__ (double underline!) : return the name of the function\n",
    "        return func(*val, **kwargs)\n",
    "    return wrapper\n",
    "\n",
    "@log\n",
    "def test(x):\n",
    "    print(x)\n",
    "\n",
    "test(1)"
   ]
  },
  {
   "cell_type": "markdown",
   "metadata": {},
   "source": [
    "## Object-Oriented"
   ]
  },
  {
   "cell_type": "markdown",
   "metadata": {},
   "source": [
    "### Class\n",
    "    class ClassName:\n",
    "        'Help Information'          # can be automatically \n",
    "        class body\n",
    "        \n",
    "#### Initialization Function:\n",
    "    def __init__(parameters):                # \"__<name>__\" implies that the function is a private function\n",
    "    \n",
    "Notice:\n",
    "\n",
    "    In python, when defining member functions, there must at least be one parameter, a.k.a. \"self\".\n",
    "    \"self\" is similar to (or exactly) \"*this\" in C++ and C.\n",
    "    However, \"self\" is not a pointer, thus \"self.<>\" is correct while \"self-><>\" is incorrect.\n",
    "    \n",
    "Application member functions:\n",
    "    \n",
    "    <>.function(parameters)\n",
    "    function(<>,parameters)\n",
    "    Both acceptable."
   ]
  },
  {
   "cell_type": "markdown",
   "metadata": {},
   "source": [
    "#### Changeable and Unchangeable Objects\n",
    "\n",
    "    Changeable Object: Only transfer the value (formal parameters，形参)\n",
    "        number(int/float/...), string, tuple\n",
    "    Unchangeable Object:  the parameter in the function is the object itself（real parameters/quotations，实参/引用）\n",
    "        list, dictionary, set\n",
    "    "
   ]
  },
  {
   "cell_type": "code",
   "execution_count": 27,
   "metadata": {},
   "outputs": [
    {
     "name": "stdout",
     "output_type": "stream",
     "text": [
      "[1, 2, 3, 4]\n",
      "In function: [1, 2, 3, 4, 6]\n",
      "[1, 2, 3, 4, 6]\n"
     ]
    }
   ],
   "source": [
    "def ChangeList(a):\n",
    "    a.append(6)\n",
    "    print(\"In function:\",a)\n",
    "    \n",
    "x = [1,2,3,4]\n",
    "print(x)\n",
    "ChangeList(x)\n",
    "print(x)"
   ]
  },
  {
   "cell_type": "code",
   "execution_count": 48,
   "metadata": {},
   "outputs": [
    {
     "name": "stdout",
     "output_type": "stream",
     "text": [
      "12\n",
      "In function: 100000\n",
      "12\n"
     ]
    }
   ],
   "source": [
    "def ChangeInt(a):\n",
    "    a = 100000\n",
    "    print(\"In function:\",a)\n",
    "    \n",
    "x = 12\n",
    "print(x)\n",
    "ChangeInt(x)\n",
    "print(x)"
   ]
  },
  {
   "cell_type": "code",
   "execution_count": 47,
   "metadata": {
    "scrolled": true
   },
   "outputs": [
    {
     "name": "stdout",
     "output_type": "stream",
     "text": [
      "12\n",
      "In function: 100000\n",
      "100000\n"
     ]
    }
   ],
   "source": [
    "def ChangeInt(a):\n",
    "    a = 100000\n",
    "    print(\"In function:\",a)\n",
    "    return a\n",
    "    \n",
    "x = 12\n",
    "print(x)\n",
    "x = ChangeInt(x)\n",
    "print(x)"
   ]
  },
  {
   "cell_type": "markdown",
   "metadata": {},
   "source": [
    "#### Private Members\n",
    "    xx: public members\n",
    "    _xx : protected members (can be visited outside the class in the same file where it is defined)\n",
    "    __xx: private members   (cannot be visited outside the class)"
   ]
  },
  {
   "cell_type": "markdown",
   "metadata": {},
   "source": [
    "#### Inherit\n",
    "    base class, derived class\n",
    "    \n",
    "    class <Derived_Name>(Base_Name):\n",
    "        class body\n",
    "    \n",
    "    Also inherit functions in the base class, no need to redefine.\n",
    "    Functions in the derived class will automatically disable the funcitons of the same name in the base class.\n",
    "    \n",
    "    In fact, \"self\" parameters is used to distinguish functions of the same name of the base and derived classes."
   ]
  },
  {
   "cell_type": "code",
   "execution_count": 84,
   "metadata": {},
   "outputs": [
    {
     "name": "stdout",
     "output_type": "stream",
     "text": [
      "调用了父类方法\n",
      "调用了子类方法\n",
      "调用了父类方法\n",
      "同名方法：父类实现\n",
      "同名方法：子类实现\n",
      "私有\n",
      "__ParentPrivate__\n"
     ]
    }
   ],
   "source": [
    "class base:\n",
    "    def __init__(self,number=0):\n",
    "        self.number = number\n",
    "    \n",
    "    def ParentMethod(self):\n",
    "        print(\"调用了父类方法\")\n",
    "        \n",
    "    def Method(self):\n",
    "        print(\"同名方法：父类实现\")\n",
    "        \n",
    "    def __ParentPrivate__(self):\n",
    "        print(\"私有\")\n",
    "    \n",
    "class derived(base):\n",
    "    def __init__(self,number=0):\n",
    "        self.number = number\n",
    "    \n",
    "    def ChildMethod(self):\n",
    "        print(\"调用了子类方法\")\n",
    "        \n",
    "    def Method(self):\n",
    "        print(\"同名方法：子类实现\")\n",
    "        \n",
    "p = base()\n",
    "c = derived()\n",
    "\n",
    "p.ParentMethod()\n",
    "c.ChildMethod()\n",
    "c.ParentMethod()         # Derived classes can use functions in its base class.\n",
    "\n",
    "p.Method()\n",
    "c.Method()\n",
    "\n",
    "p.__ParentPrivate__()\n",
    "print(p.__ParentPrivate__.__name__)"
   ]
  },
  {
   "cell_type": "markdown",
   "metadata": {},
   "source": [
    "#### Visual Class"
   ]
  },
  {
   "cell_type": "markdown",
   "metadata": {},
   "source": [
    "Decrators of the visual class requires all derived classes to redefine the method functions.\n",
    "\n",
    "    import abc\n",
    "    class <name>(metaclass = abc.ABCMeta):\n",
    "        @abc.abstractmethod\n",
    "        def <abstract_function>:\n",
    "            pass       # python require at least one meaningful line for a funtion. \"pass\" means the function is an abstract one.\n",
    "                        # \"pass\" means \"do nothing\"\n",
    "           "
   ]
  },
  {
   "cell_type": "markdown",
   "metadata": {},
   "source": [
    "#### Multi-States (Utilizing Visual Class)"
   ]
  },
  {
   "cell_type": "code",
   "execution_count": 39,
   "metadata": {
    "scrolled": false
   },
   "outputs": [
    {
     "name": "stdout",
     "output_type": "stream",
     "text": [
      "Hello.\n",
      "Meow.\n",
      "Woof.\n"
     ]
    }
   ],
   "source": [
    "import abc\n",
    "class Animal(metaclass = abc.ABCMeta):\n",
    "    @abc.abstractmethod\n",
    "    def talk(self):\n",
    "        pass\n",
    "    \n",
    "class Cat(Animal):\n",
    "    def talk(self):\n",
    "        print(\"Meow.\")\n",
    "        \n",
    "class Human(Animal):\n",
    "    def talk(self):\n",
    "        print(\"Hello.\")\n",
    "        \n",
    "class Dog(Animal):\n",
    "    def talk(self):\n",
    "        print(\"Woof.\")\n",
    "        \n",
    "\n",
    "def talk(obj):\n",
    "    obj.talk()\n",
    "    return\n",
    "\n",
    "h = Human()\n",
    "c = Cat()\n",
    "d = Dog()\n",
    "\n",
    "talk(h)\n",
    "talk(c)\n",
    "talk(d)"
   ]
  },
  {
   "cell_type": "markdown",
   "metadata": {},
   "source": [
    "#### 绑定关系\n",
    "默认绑定到对象。\n",
    "\n",
    "绑定到类：@classmethod 装饰，类似C++的静态成员"
   ]
  },
  {
   "cell_type": "markdown",
   "metadata": {},
   "source": [
    "### An Example"
   ]
  },
  {
   "cell_type": "code",
   "execution_count": 57,
   "metadata": {},
   "outputs": [
    {
     "name": "stdout",
     "output_type": "stream",
     "text": [
      "ZhangMing\n",
      "20\n",
      "100\n"
     ]
    }
   ],
   "source": [
    "class Student:\n",
    "    number = 0\n",
    "    \n",
    "    def __init__(self,name,age,score):\n",
    "        self.name  = name\n",
    "        self.age   = age\n",
    "        self.score = score\n",
    "        Student.number += 1           # static member of the class, regarded as a property of the class\n",
    "    \n",
    "    def get_name(self):\n",
    "        return self.name\n",
    "    \n",
    "    def get_age(self):\n",
    "        return self.age\n",
    "    \n",
    "    def get_course(self):\n",
    "        maxcourse = self.score[0]\n",
    "        for i in self.score:\n",
    "            if maxcourse<i:\n",
    "                maxcourse = i\n",
    "        return maxcourse    \n",
    "\n",
    "# Test\n",
    "\n",
    "a = Student(\"ZhangMing\",20,[69,88,100])\n",
    "print(a.get_name())\n",
    "print(a.get_age())\n",
    "print(a.get_course())"
   ]
  },
  {
   "cell_type": "markdown",
   "metadata": {},
   "source": [
    "## File\n",
    "### File Input and Output\n",
    "\n",
    "    file_object = open(file_name, access_mode = r, buffering = 0)\n",
    "    access_mode:\n",
    "        r    -- read only\n",
    "        rb   -- read only as binary\n",
    "        r(b)+ -- read and write (as binary). File pointer at the beginning.\n",
    "        w    -- write only. Overwrite the file if exists.\n",
    "        wb   -- write only as binary\n",
    "        a    -- append\n",
    "    buffering: 是否使用缓存\n",
    "    \n",
    "    file_object:\n",
    "        name\n",
    "        mode\n",
    "        closed [BOOL]\n",
    "        close\n",
    "    \n",
    "    <file>.write()"
   ]
  },
  {
   "cell_type": "code",
   "execution_count": 55,
   "metadata": {},
   "outputs": [],
   "source": [
    "file = open(\"1.txt\",\"w\")\n",
    "file.write(\"Hey there.\\t What a day.\\r\")\n",
    "file.write(\"Whatever, this is just an example.\\n\")\n",
    "file.write(\"The file will be closed soon.\\n\")\n",
    "file.close()"
   ]
  },
  {
   "cell_type": "code",
   "execution_count": 58,
   "metadata": {
    "scrolled": true
   },
   "outputs": [
    {
     "name": "stdout",
     "output_type": "stream",
     "text": [
      "There are 17 words in the file.\n",
      "['Hey', 'there.', 'What', 'a', 'day.', 'Whatever,', 'this', 'is', 'just', 'an', 'example.', 'The', 'file', 'will', 'be', 'closed', 'soon.']\n",
      "There are 5 words in the file.\n",
      "['Hey', 'there.', 'What', 'a', 'day.']\n"
     ]
    }
   ],
   "source": [
    "f = open(\"1.txt\",\"r\")\n",
    "string = f.read()\n",
    "f.close()\n",
    "\n",
    "words = string.split()             # space(\" \"), table(\"\\t\"), enter(\"\\r\") and linefeed(\"\\n\") will be regarded as spliting chars.\n",
    "print(\"There are {0} words in the file.\".format(len(words)))\n",
    "print(words)\n",
    "\n",
    "f = open(\"1.txt\",\"r\")\n",
    "string = f.readline()              # only a line\n",
    "f.close()\n",
    "\n",
    "words = string.split()\n",
    "print(\"There are {0} words in the file.\".format(len(words)))\n",
    "print(words)"
   ]
  },
  {
   "cell_type": "markdown",
   "metadata": {},
   "source": [
    "### Exception（异常）\n",
    "#### Passive Exception\n",
    "    try:\n",
    "        #{block}\n",
    "    except<(error1, error2)<as e(can be omitted)>>:\n",
    "        #{solve it}\n",
    "    except error:\n",
    "        #{solve it}\n",
    "    except:  #{solve it}\n",
    "    \n",
    "    \n",
    "#### Exception\n",
    "    raise Name_of_the_Error(\"Information of the error.\")\n",
    "    \n",
    "#### Finally\n",
    "    No matter there is an error or not, run the line after \"finally:\".\n",
    "    Often used to release the space or other sources.\n",
    "    \n",
    "#### Else\n",
    "    When there is no error in the block, run \"else:<line>\"\n",
    "    \n",
    "    \n",
    "#### With\n",
    "    for line in open(\"1.txt\",\"r\"):\n",
    "        print(line,end=\"\")\n",
    "    # Problem: cannot close the file (the file is created as an annonymous class)\n",
    "\n",
    "    with open(\"1.txt) as f:\n",
    "        for line in f:\n",
    "            print(line,end=\"\\n\")\n",
    "    # When the \"with\" block is over, f is automatically closed and all sources are released.\n",
    "    \n",
    "#### Pass\n",
    "    do nothing."
   ]
  },
  {
   "cell_type": "code",
   "execution_count": 62,
   "metadata": {},
   "outputs": [
    {
     "name": "stdout",
     "output_type": "stream",
     "text": [
      "Create A.\n",
      "Added Abandon to A.\n",
      "A already has 1 elements.\n",
      "Added Abnormal to A.\n",
      "Create B.\n",
      "Added Balloon to B.\n",
      "Create Z.\n",
      "Added Zoo to Z.\n",
      "B already has 1 elements.\n",
      "Added Basket to B.\n",
      "A already has 2 elements.\n",
      "Added Apple to A.\n"
     ]
    }
   ],
   "source": [
    "def add_to_list_in_dict(thedict, listname, element):\n",
    "    try:\n",
    "        l = thedict[listname]\n",
    "        print(\"%s already has %d elements.\" % (listname, len(l)))\n",
    "    except:\n",
    "        thedict[listname] = []\n",
    "        print(\"Create %s.\" % listname)\n",
    "    finally:\n",
    "        thedict[listname].append(element)\n",
    "        print(\"Added %s to %s.\" % (element, listname))\n",
    "\n",
    "a = dict()\n",
    "add_to_list_in_dict(a, \"A\", \"Abandon\")\n",
    "add_to_list_in_dict(a, \"A\", \"Abnormal\")\n",
    "add_to_list_in_dict(a, \"B\", \"Balloon\")\n",
    "add_to_list_in_dict(a, \"Z\", \"Zoo\")\n",
    "add_to_list_in_dict(a, \"B\", \"Basket\")\n",
    "add_to_list_in_dict(a, \"A\", \"Apple\")"
   ]
  },
  {
   "cell_type": "markdown",
   "metadata": {},
   "source": [
    "## Std Modules and Third-Party Modules\n",
    "### Modules\n",
    "    numbers, math, cmath, decimal, random\n",
    "    \n",
    "    isinstance(number, type) = True/False"
   ]
  },
  {
   "cell_type": "code",
   "execution_count": 65,
   "metadata": {},
   "outputs": [
    {
     "name": "stdout",
     "output_type": "stream",
     "text": [
      "<class 'complex'>\n",
      "(1+2j)\n"
     ]
    },
    {
     "data": {
      "text/plain": [
       "False"
      ]
     },
     "execution_count": 65,
     "metadata": {},
     "output_type": "execute_result"
    }
   ],
   "source": [
    "c = 1j+2\n",
    "print(type(c))\n",
    "\n",
    "a = complex(1,2)\n",
    "print(a)\n",
    "\n",
    "isinstance(a,int)"
   ]
  },
  {
   "cell_type": "code",
   "execution_count": 70,
   "metadata": {
    "scrolled": true
   },
   "outputs": [
    {
     "name": "stdout",
     "output_type": "stream",
     "text": [
      "1 23 j+4 5.4 as 7\n",
      "['1', '23', '7']\n"
     ]
    }
   ],
   "source": [
    "def isint(x):\n",
    "    try:\n",
    "        return isinstance(eval(x),int)\n",
    "    except:\n",
    "        return False\n",
    "\n",
    "numlist = list(filter(isint,input().split()))\n",
    "print(numlist)"
   ]
  },
  {
   "cell_type": "code",
   "execution_count": 89,
   "metadata": {},
   "outputs": [
    {
     "name": "stdout",
     "output_type": "stream",
     "text": [
      "17 3 -5\n",
      "17 2 -6\n",
      "355687428096000\n",
      "14.5510685151576\n"
     ]
    }
   ],
   "source": [
    "import math\n",
    "a, b, c = 17.0, 2.7, -5.3\n",
    "print(math.ceil(a),math.ceil(b),math.ceil(c))\n",
    "a, b, c = math.floor(a),math.floor(b),math.floor(c)\n",
    "print(a,b,c)\n",
    "a = math.factorial(a)\n",
    "print(a)\n",
    "print(math.log10(a))"
   ]
  },
  {
   "cell_type": "code",
   "execution_count": 95,
   "metadata": {
    "scrolled": true
   },
   "outputs": [
    {
     "name": "stdout",
     "output_type": "stream",
     "text": [
      "(14.879731724872837+0j)\n",
      "(12.577559605526668+10.593932310316903j)\n"
     ]
    }
   ],
   "source": [
    "import cmath\n",
    "print(cmath.exp(2.7))\n",
    "print(cmath.exp(2.8+0.7j))"
   ]
  },
  {
   "cell_type": "code",
   "execution_count": 71,
   "metadata": {
    "scrolled": true
   },
   "outputs": [
    {
     "name": "stdout",
     "output_type": "stream",
     "text": [
      "483\n",
      "578\n",
      "446\n",
      "789\n",
      "894\n",
      "368\n",
      "282\n",
      "687\n",
      "789\n",
      "984\n"
     ]
    }
   ],
   "source": [
    "import random\n",
    "for i in range(10):\n",
    "    x = random.randrange(1,1000)\n",
    "    print(x)\n"
   ]
  },
  {
   "cell_type": "code",
   "execution_count": 100,
   "metadata": {},
   "outputs": [
    {
     "name": "stdout",
     "output_type": "stream",
     "text": [
      "21.219999999999998863131622783839702606201171875\n",
      "212.34\n",
      "212.341\n"
     ]
    }
   ],
   "source": [
    "import decimal\n",
    "print(decimal.Decimal.from_float(21.220))\n",
    "print(decimal.Decimal('212.34134213164412312').quantize(decimal.Decimal('0.00')))\n",
    "print(decimal.Decimal('212.34134213164412312').quantize(decimal.Decimal('1.007')))"
   ]
  },
  {
   "cell_type": "code",
   "execution_count": 80,
   "metadata": {},
   "outputs": [
    {
     "name": "stdout",
     "output_type": "stream",
     "text": [
      "111\n",
      "7\n"
     ]
    }
   ],
   "source": [
    "from functools import partial\n",
    "\n",
    "\n",
    "def convert(num, base):\n",
    "    def value(bit):\n",
    "        if bit>='0' and bit<='9' : return eval(bit)\n",
    "        else:                   return ord(bit)-87\n",
    "    sum = value(num[0])\n",
    "    for i in range(1,len(num)):\n",
    "        sum = sum*base + value(num[i])\n",
    "    return sum\n",
    "\n",
    "binaryconvert = partial(convert,base=2)\n",
    "n = input()\n",
    "print(binaryconvert(n))"
   ]
  },
  {
   "cell_type": "markdown",
   "metadata": {},
   "source": [
    "### pathlib / os.path / fileinput / \n",
    "\n",
    "    fileinput.input(\"<Menu>/*.txt\")        iterable data structure"
   ]
  },
  {
   "cell_type": "markdown",
   "metadata": {},
   "source": [
    "### pickle\n",
    "\n",
    "    pickle.dump(data,file)\n",
    "    pickle.load(file)"
   ]
  },
  {
   "cell_type": "code",
   "execution_count": 90,
   "metadata": {},
   "outputs": [
    {
     "name": "stdout",
     "output_type": "stream",
     "text": [
      "10\n"
     ]
    }
   ],
   "source": [
    "import pickle as pkl\n",
    "with open(\"2.txt\",\"wb\") as f:\n",
    "    data = 10\n",
    "    pkl.dump(data,f)\n",
    "    \n",
    "with open(\"2.txt\",\"rb\") as f:\n",
    "    data = pkl.load(f)\n",
    "    print(data)"
   ]
  },
  {
   "cell_type": "markdown",
   "metadata": {},
   "source": [
    "### os / io / time / logging\n",
    "    "
   ]
  },
  {
   "cell_type": "markdown",
   "metadata": {},
   "source": [
    "### threading / multiprocessing"
   ]
  },
  {
   "cell_type": "code",
   "execution_count": null,
   "metadata": {},
   "outputs": [],
   "source": []
  }
 ],
 "metadata": {
  "kernelspec": {
   "display_name": "Python 3",
   "language": "python",
   "name": "python3"
  },
  "language_info": {
   "codemirror_mode": {
    "name": "ipython",
    "version": 3
   },
   "file_extension": ".py",
   "mimetype": "text/x-python",
   "name": "python",
   "nbconvert_exporter": "python",
   "pygments_lexer": "ipython3",
   "version": "3.8.5"
  }
 },
 "nbformat": 4,
 "nbformat_minor": 4
}
